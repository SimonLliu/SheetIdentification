{
 "cells": [
  {
   "cell_type": "code",
   "execution_count": 4,
   "metadata": {
    "scrolled": true
   },
   "outputs": [],
   "source": [
    "import numpy as np\n",
    "import pickle\n",
    "from sklearn.svm import SVC"
   ]
  },
  {
   "cell_type": "code",
   "execution_count": 5,
   "metadata": {},
   "outputs": [
    {
     "name": "stdout",
     "output_type": "stream",
     "text": [
      "[72. 69. 68. 68. 69. 71. 73. 72. 71.]\n",
      "[90. 90. 85. 81. 85. 87. 84. 80. 79.]\n",
      "[63. 59. 62. 64. 66. 70. 71. 69. 65.]\n",
      "[75. 74. 75. 75. 75. 75. 76. 78. 80.]\n",
      "[33. 35. 36. 37. 38. 37. 34. 32. 32.]\n",
      "[205. 207. 207. 208. 208. 208. 208. 208. 208.]\n",
      "[154. 154. 154. 154. 155. 153. 152. 153. 157.]\n",
      "[167. 169. 169. 170. 171. 172. 172. 171. 170.]\n",
      "[82. 87. 85. 82. 80. 80. 81. 82. 83.]\n",
      "[69. 71. 73. 74. 73. 72. 73. 72. 70.]\n",
      "[4. 5. 4. 5. 5. 4. 6. 8. 8.]\n",
      "[133. 132. 132. 133. 133. 133. 134. 135. 136.]\n",
      "[41. 47. 51. 51. 51. 54. 58. 58. 55.]\n",
      "[120. 122. 124. 124. 121. 121. 122. 124. 124.]\n",
      "[86. 85. 86. 84. 82. 80. 80. 79. 77.]\n",
      "[104. 102. 101. 105. 105.  96.  92.  94.  93.]\n",
      "[ 98. 104. 103. 101. 100. 100. 101.  99.  97.]\n",
      "[93. 91. 94. 96. 93. 91. 90. 88. 88.]\n",
      "[48. 49. 45. 42. 45. 51. 50. 46. 48.]\n",
      "[85. 88. 92. 94. 94. 94. 94. 94. 93.]\n",
      "[55. 59. 62. 60. 56. 55. 53. 52. 54.]\n",
      "[86. 84. 82. 78. 75. 75. 77. 80. 82.]\n",
      "[74. 71. 70. 75. 78. 74. 77. 84. 84.]\n",
      "[30. 39. 40. 39. 37. 35. 29. 24. 22.]\n",
      "[42. 25. 24. 24. 26. 27. 26. 24. 24.]\n",
      "[85. 85. 86. 86. 81. 77. 82. 87. 87.]\n",
      "[68. 73. 72. 65. 61. 67. 71. 70. 69.]\n",
      "[87. 91. 93. 90. 86. 85. 87. 88. 87.]\n",
      "[108. 107. 104. 105. 109. 112. 111. 110. 110.]\n",
      "[164. 160. 161. 163. 165. 166. 166. 169. 171.]\n",
      "[218. 218. 218. 217. 216. 216. 216. 217. 217.]\n"
     ]
    }
   ],
   "source": [
    "X=np.zeros((31,7500))\n",
    "for i in range(0,31):\n",
    "    fp=open('data'+str(i)+'.pkl','rb')\n",
    "    block=pickle.load(fp)\n",
    "    fp.close\n",
    "    #print(block[1:10])\n",
    "    for j in range(0,7500):\n",
    "        X[i,j]=int(block[j])\n",
    "    print(X[i,1:10])"
   ]
  },
  {
   "cell_type": "code",
   "execution_count": 6,
   "metadata": {},
   "outputs": [],
   "source": [
    "Y=np.zeros((31))\n",
    "Y[1]=1.0\n",
    "Y[2]=1.0\n",
    "Y[3]=1.0\n",
    "Y[0]=1.0\n",
    "Y[8]=1.0\n",
    "Y[9]=1.0\n",
    "Y[14]=1.0\n",
    "Y[19]=1.0\n",
    "Y[21]=1.0\n",
    "Y[25]=1.0\n",
    "Y[26]=1.0\n",
    "Y[27]=1.0\n",
    "#print(TrainingLabels[10])\n",
    "#print(TrainingLabels)\n",
    "#TrainingLabels=[1 1 1 1 1 1 1 1 1 1 \n",
    "#                1 1 1 1 1 1 1 1 1 1 \n",
    "#                1 1 1 1 1 1 1 1 1 1]"
   ]
  },
  {
   "cell_type": "code",
   "execution_count": 8,
   "metadata": {},
   "outputs": [
    {
     "name": "stdout",
     "output_type": "stream",
     "text": [
      "1.0\n"
     ]
    }
   ],
   "source": [
    "clf= SVC(C=200,kernel='rbf')\n",
    "clf.fit(X,Y)\n",
    "from sklearn.metrics import accuracy_score\n",
    "prediction = clf.predict(X)\n",
    "correct = accuracy_score(Y, prediction)\n",
    "print(correct)"
   ]
  },
  {
   "cell_type": "code",
   "execution_count": 9,
   "metadata": {},
   "outputs": [
    {
     "data": {
      "text/plain": [
       "['clf.m']"
      ]
     },
     "execution_count": 9,
     "metadata": {},
     "output_type": "execute_result"
    }
   ],
   "source": [
    "from sklearn.externals import joblib\n",
    "joblib.dump(clf,'clf.m')"
   ]
  },
  {
   "cell_type": "code",
   "execution_count": null,
   "metadata": {
    "collapsed": true
   },
   "outputs": [],
   "source": []
  }
 ],
 "metadata": {
  "kernelspec": {
   "display_name": "Python 3",
   "language": "python",
   "name": "python3"
  },
  "language_info": {
   "codemirror_mode": {
    "name": "ipython",
    "version": 3
   },
   "file_extension": ".py",
   "mimetype": "text/x-python",
   "name": "python",
   "nbconvert_exporter": "python",
   "pygments_lexer": "ipython3",
   "version": "3.6.2"
  }
 },
 "nbformat": 4,
 "nbformat_minor": 2
}
