{
 "cells": [
  {
   "cell_type": "code",
   "execution_count": 132,
   "metadata": {
    "collapsed": true
   },
   "outputs": [],
   "source": [
    "import cv2\n",
    "import matplotlib.pyplot as plt\n",
    "import numpy as np"
   ]
  },
  {
   "cell_type": "code",
   "execution_count": 135,
   "metadata": {},
   "outputs": [
    {
     "name": "stdout",
     "output_type": "stream",
     "text": [
      "(4032, 3024, 3)\n"
     ]
    }
   ],
   "source": [
    "image = cv2.imread('E:/picture/IMG_9399.JPG')\n",
    "print(image.shape)\n",
    "row_begin=int(image.shape[0]-50)\n",
    "row_end=int(image.shape[0])\n",
    "column_begin=int(image.shape[1]-50)\n",
    "column_end=int(image.shape[1])"
   ]
  },
  {
   "cell_type": "code",
   "execution_count": 128,
   "metadata": {},
   "outputs": [],
   "source": [
    "block_1=image[row_begin:row_end,column_begin:column_end,0]\n",
    "block_2=image[row_begin:row_end,column_begin:column_end,1]\n",
    "block_3=image[row_begin:row_end,column_begin:column_end,2]"
   ]
  },
  {
   "cell_type": "code",
   "execution_count": 129,
   "metadata": {},
   "outputs": [],
   "source": [
    "#for element in block_1.flat\n",
    "#block=block_1.ravel()\n",
    "block1=list(block_1.flat)\n",
    "block2=list(block_2.flat)\n",
    "block3=list(block_3.flat)\n",
    "block=[]\n",
    "block.extend(block1)\n",
    "block.extend(block2)\n",
    "block.extend(block3)\n",
    "#print(block)\n",
    "#print(block[1:10])"
   ]
  },
  {
   "cell_type": "code",
   "execution_count": 130,
   "metadata": {},
   "outputs": [
    {
     "data": {
      "text/plain": [
       "<function BufferedWriter.close>"
      ]
     },
     "execution_count": 130,
     "metadata": {},
     "output_type": "execute_result"
    }
   ],
   "source": [
    "import pickle\n",
    "data=block\n",
    "fp=open('data30.pkl','wb')\n",
    "pickle.dump(data,fp)\n",
    "fp.close"
   ]
  },
  {
   "cell_type": "code",
   "execution_count": null,
   "metadata": {},
   "outputs": [],
   "source": [
    "fp=open('data2.pkl','rb')\n",
    "blockn=pickle.load(fp)\n",
    "fp.close\n",
    "print(blockn[1:10])"
   ]
  }
 ],
 "metadata": {
  "kernelspec": {
   "display_name": "Python 3",
   "language": "python",
   "name": "python3"
  },
  "language_info": {
   "codemirror_mode": {
    "name": "ipython",
    "version": 3
   },
   "file_extension": ".py",
   "mimetype": "text/x-python",
   "name": "python",
   "nbconvert_exporter": "python",
   "pygments_lexer": "ipython3",
   "version": "3.6.2"
  }
 },
 "nbformat": 4,
 "nbformat_minor": 2
}
